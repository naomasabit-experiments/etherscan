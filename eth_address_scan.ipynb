{
 "cells": [
  {
   "cell_type": "code",
   "execution_count": 4,
   "metadata": {
    "collapsed": false
   },
   "outputs": [],
   "source": [
    "import requests\n",
    "import json\n",
    "import pandas as pd\n",
    "import time\n",
    "def get_logs(from_block):\n",
    "    '''\n",
    "    from_block:抽出ブロック範囲（start）\n",
    "    '''\n",
    "    # 抽出ブロック範囲\n",
    "    FROM_BLOCK=\"0\"\n",
    "    TO_BLOCK=\"latest\"\n",
    "    ADDRESS=\"\"\n",
    "    TOPIC0=\"0xddf252ad1be2c89b69c2b068fc378daa952ba7f163c4a11628f55a4df523b3ef\"\n",
    "    API_KEY= \"\"\n",
    "    url = \"https://api.etherscan.io/api?module=logs&action=getLogs&fromBlock=%s&toBlock=%s&address=%s&topic0=%s&apiKey=%s\"% (FROM_BLOCK,TO_BLOCK,ADDRESS,TOPIC0,API_KEY)\n",
    "    res = requests.get(url)\n",
    "    results = res.json()[\"result\"]\n",
    "\n",
    "# digits = 10 ** 18\n",
    "def extract_vals(results):\n",
    "    ret = []\n",
    "    for result in results:\n",
    "        tmp = []\n",
    "        tmp.append(result['transactionHash'])\n",
    "        tmp.append(int(result['blockNumber'],16))\n",
    "        tmp.append(result['topics'][1]) # from_address\n",
    "        tmp.append(result['topics'][2]) # to_address\n",
    "        tmp.append(int(result['data'],16) ) # value\n",
    "        gas_price = int(result['gasPrice'],16) \n",
    "        gas_used = int(result['gasUsed'],16) \n",
    "        tmp.append(gas_price)\n",
    "        tmp.append(gas_used)\n",
    "        tmp.append(gas_price * gas_used)\n",
    "        ret.append(tmp) \n",
    "\n",
    "def main():\n",
    "    ret_data = []\n",
    "    from_block = 5489249 \n",
    "    while from_block < 5645905:\n",
    "        results = get_logs(from_block)\n",
    "        if results is not None:\n",
    "            ret_data = ret_data + extract_vals(results)\n",
    "        from_block = from_block + 10000\n",
    "        print(ret_data)\n",
    "        time.sleep(1)\n",
    "    df = pd.DataFrame(ret,columns=['transactionHash','blockNumber','from','to','data','gasPrice','gasUsed','gas'])\n",
    "    df.to_csv('tmp.csv',index=False)"
   ]
  },
  {
   "cell_type": "code",
   "execution_count": 1,
   "metadata": {
    "collapsed": true
   },
   "outputs": [
    {
     "ename": "NameError",
     "evalue": "name 'main' is not defined",
     "output_type": "error",
     "traceback": [
      "\u001b[0;31m---------------------------------------------------------------------------\u001b[0m",
      "\u001b[0;31mNameError\u001b[0m                                 Traceback (most recent call last)",
      "\u001b[0;32m<ipython-input-1-58ca95c5b364>\u001b[0m in \u001b[0;36m<module>\u001b[0;34m()\u001b[0m\n\u001b[0;32m----> 1\u001b[0;31m \u001b[0mmain\u001b[0m\u001b[0;34m(\u001b[0m\u001b[0;34m)\u001b[0m\u001b[0;34m\u001b[0m\u001b[0m\n\u001b[0m",
      "\u001b[0;31mNameError\u001b[0m: name 'main' is not defined"
     ]
    }
   ],
   "source": [
    "main()"
   ]
  }
 ],
 "metadata": {
  "kernelspec": {
   "display_name": "Python 3",
   "language": "python",
   "name": "python3"
  },
  "language_info": {
   "codemirror_mode": {
    "name": "ipython",
    "version": 3
   },
   "file_extension": ".py",
   "mimetype": "text/x-python",
   "name": "python",
   "nbconvert_exporter": "python",
   "pygments_lexer": "ipython3",
   "version": "3.6.0"
  }
 },
 "nbformat": 4,
 "nbformat_minor": 2
}
